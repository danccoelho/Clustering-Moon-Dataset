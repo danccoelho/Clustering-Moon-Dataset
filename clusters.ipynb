{
 "cells": [
  {
   "cell_type": "code",
   "execution_count": 9,
   "id": "500ffe68",
   "metadata": {},
   "outputs": [],
   "source": [
    "# Importação das bibliotecas necessárias para o projeto de Clustering (Agrupamento).\n",
    "# pandas (pd): Usado para manipulação e análise de dados tabulares.\n",
    "import pandas as pd\n",
    "# numpy (np): Essencial para computação numérica de alto desempenho, especialmente com arrays e matrizes.\n",
    "import numpy as np\n",
    "# Função do Scikit-learn para gerar um dataset sintético.\n",
    "from sklearn.datasets import make_moons\n",
    "# Algoritmos de Clustering do Scikit-learn:\n",
    "from sklearn.cluster import DBSCAN, KMeans, AgglomerativeClustering\n",
    "# plotly.express (px): Uma biblioteca de alto nível para criar gráficos interativos rapidamente.\n",
    "import plotly.express as px\n",
    "# plotly.graph_objects (go): Uma biblioteca de baixo nível para controle mais fino sobre os gráficos Plotly.\n",
    "import plotly.graph_objects as go"
   ]
  },
  {
   "cell_type": "code",
   "execution_count": 10,
   "id": "4db9bef5",
   "metadata": {},
   "outputs": [],
   "source": [
    "# Geração do dataset sintético 'make_moons'.\n",
    "# n_samples=1500: Define o número total de pontos de dados a serem gerados.\n",
    "# noise=0.09: Adiciona ruído gaussiano aos dados.\n",
    "X_random, y_random = make_moons(n_samples=1500, noise=0.09)"
   ]
  },
  {
   "cell_type": "code",
   "execution_count": 11,
   "id": "689c0deb",
   "metadata": {},
   "outputs": [
    {
     "data": {
      "text/plain": [
       "array([[ 0.4058123 , -0.44582814],\n",
       "       [-0.86293221,  0.61322888],\n",
       "       [-0.99413197,  0.38704969],\n",
       "       ...,\n",
       "       [ 0.06983876,  0.31306373],\n",
       "       [-0.67205539,  0.62001423],\n",
       "       [ 0.91478429, -0.5078485 ]], shape=(1500, 2))"
      ]
     },
     "execution_count": 11,
     "metadata": {},
     "output_type": "execute_result"
    }
   ],
   "source": [
    "X_random"
   ]
  },
  {
   "cell_type": "code",
   "execution_count": 12,
   "id": "3b67d0d1",
   "metadata": {},
   "outputs": [
    {
     "data": {
      "text/plain": [
       "array([1, 0, 0, ..., 1, 0, 1], shape=(1500,))"
      ]
     },
     "execution_count": 12,
     "metadata": {},
     "output_type": "execute_result"
    }
   ],
   "source": [
    "y_random"
   ]
  },
  {
   "cell_type": "code",
   "execution_count": 13,
   "id": "89fb559a",
   "metadata": {},
   "outputs": [
    {
     "data": {
      "text/plain": [
       "array([0, 1])"
      ]
     },
     "execution_count": 13,
     "metadata": {},
     "output_type": "execute_result"
    }
   ],
   "source": [
    "# Verificação dos valores únicos e suas contagens nos rótulos verdadeiros (y_random).\n",
    "np.unique(y_random)"
   ]
  },
  {
   "cell_type": "code",
   "execution_count": 21,
   "id": "9135f0ff",
   "metadata": {},
   "outputs": [
    {
     "data": {
      "application/vnd.plotly.v1+json": {
       "config": {
        "plotlyServerURL": "https://plot.ly"
       },
       "data": [
        {
         "hovertemplate": "x=%{x}<br>y=%{y}<extra></extra>",
         "legendgroup": "",
         "marker": {
          "color": "#636efa",
          "symbol": "circle"
         },
         "mode": "markers",
         "name": "",
         "showlegend": false,
         "type": "scattergl",
         "x": {
          "bdata": "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",
          "dtype": "f8"
         },
         "xaxis": "x",
         "y": {
          "bdata": "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",
          "dtype": "f8"
         },
         "yaxis": "y"
        }
       ],
       "layout": {
        "legend": {
         "tracegroupgap": 0
        },
        "margin": {
         "t": 60
        },
        "template": {
         "data": {
          "bar": [
           {
            "error_x": {
             "color": "#2a3f5f"
            },
            "error_y": {
             "color": "#2a3f5f"
            },
            "marker": {
             "line": {
              "color": "#E5ECF6",
              "width": 0.5
             },
             "pattern": {
              "fillmode": "overlay",
              "size": 10,
              "solidity": 0.2
             }
            },
            "type": "bar"
           }
          ],
          "barpolar": [
           {
            "marker": {
             "line": {
              "color": "#E5ECF6",
              "width": 0.5
             },
             "pattern": {
              "fillmode": "overlay",
              "size": 10,
              "solidity": 0.2
             }
            },
            "type": "barpolar"
           }
          ],
          "carpet": [
           {
            "aaxis": {
             "endlinecolor": "#2a3f5f",
             "gridcolor": "white",
             "linecolor": "white",
             "minorgridcolor": "white",
             "startlinecolor": "#2a3f5f"
            },
            "baxis": {
             "endlinecolor": "#2a3f5f",
             "gridcolor": "white",
             "linecolor": "white",
             "minorgridcolor": "white",
             "startlinecolor": "#2a3f5f"
            },
            "type": "carpet"
           }
          ],
          "choropleth": [
           {
            "colorbar": {
             "outlinewidth": 0,
             "ticks": ""
            },
            "type": "choropleth"
           }
          ],
          "contour": [
           {
            "colorbar": {
             "outlinewidth": 0,
             "ticks": ""
            },
            "colorscale": [
             [
              0,
              "#0d0887"
             ],
             [
              0.1111111111111111,
              "#46039f"
             ],
             [
              0.2222222222222222,
              "#7201a8"
             ],
             [
              0.3333333333333333,
              "#9c179e"
             ],
             [
              0.4444444444444444,
              "#bd3786"
             ],
             [
              0.5555555555555556,
              "#d8576b"
             ],
             [
              0.6666666666666666,
              "#ed7953"
             ],
             [
              0.7777777777777778,
              "#fb9f3a"
             ],
             [
              0.8888888888888888,
              "#fdca26"
             ],
             [
              1,
              "#f0f921"
             ]
            ],
            "type": "contour"
           }
          ],
          "contourcarpet": [
           {
            "colorbar": {
             "outlinewidth": 0,
             "ticks": ""
            },
            "type": "contourcarpet"
           }
          ],
          "heatmap": [
           {
            "colorbar": {
             "outlinewidth": 0,
             "ticks": ""
            },
            "colorscale": [
             [
              0,
              "#0d0887"
             ],
             [
              0.1111111111111111,
              "#46039f"
             ],
             [
              0.2222222222222222,
              "#7201a8"
             ],
             [
              0.3333333333333333,
              "#9c179e"
             ],
             [
              0.4444444444444444,
              "#bd3786"
             ],
             [
              0.5555555555555556,
              "#d8576b"
             ],
             [
              0.6666666666666666,
              "#ed7953"
             ],
             [
              0.7777777777777778,
              "#fb9f3a"
             ],
             [
              0.8888888888888888,
              "#fdca26"
             ],
             [
              1,
              "#f0f921"
             ]
            ],
            "type": "heatmap"
           }
          ],
          "histogram": [
           {
            "marker": {
             "pattern": {
              "fillmode": "overlay",
              "size": 10,
              "solidity": 0.2
             }
            },
            "type": "histogram"
           }
          ],
          "histogram2d": [
           {
            "colorbar": {
             "outlinewidth": 0,
             "ticks": ""
            },
            "colorscale": [
             [
              0,
              "#0d0887"
             ],
             [
              0.1111111111111111,
              "#46039f"
             ],
             [
              0.2222222222222222,
              "#7201a8"
             ],
             [
              0.3333333333333333,
              "#9c179e"
             ],
             [
              0.4444444444444444,
              "#bd3786"
             ],
             [
              0.5555555555555556,
              "#d8576b"
             ],
             [
              0.6666666666666666,
              "#ed7953"
             ],
             [
              0.7777777777777778,
              "#fb9f3a"
             ],
             [
              0.8888888888888888,
              "#fdca26"
             ],
             [
              1,
              "#f0f921"
             ]
            ],
            "type": "histogram2d"
           }
          ],
          "histogram2dcontour": [
           {
            "colorbar": {
             "outlinewidth": 0,
             "ticks": ""
            },
            "colorscale": [
             [
              0,
              "#0d0887"
             ],
             [
              0.1111111111111111,
              "#46039f"
             ],
             [
              0.2222222222222222,
              "#7201a8"
             ],
             [
              0.3333333333333333,
              "#9c179e"
             ],
             [
              0.4444444444444444,
              "#bd3786"
             ],
             [
              0.5555555555555556,
              "#d8576b"
             ],
             [
              0.6666666666666666,
              "#ed7953"
             ],
             [
              0.7777777777777778,
              "#fb9f3a"
             ],
             [
              0.8888888888888888,
              "#fdca26"
             ],
             [
              1,
              "#f0f921"
             ]
            ],
            "type": "histogram2dcontour"
           }
          ],
          "mesh3d": [
           {
            "colorbar": {
             "outlinewidth": 0,
             "ticks": ""
            },
            "type": "mesh3d"
           }
          ],
          "parcoords": [
           {
            "line": {
             "colorbar": {
              "outlinewidth": 0,
              "ticks": ""
             }
            },
            "type": "parcoords"
           }
          ],
          "pie": [
           {
            "automargin": true,
            "type": "pie"
           }
          ],
          "scatter": [
           {
            "fillpattern": {
             "fillmode": "overlay",
             "size": 10,
             "solidity": 0.2
            },
            "type": "scatter"
           }
          ],
          "scatter3d": [
           {
            "line": {
             "colorbar": {
              "outlinewidth": 0,
              "ticks": ""
             }
            },
            "marker": {
             "colorbar": {
              "outlinewidth": 0,
              "ticks": ""
             }
            },
            "type": "scatter3d"
           }
          ],
          "scattercarpet": [
           {
            "marker": {
             "colorbar": {
              "outlinewidth": 0,
              "ticks": ""
             }
            },
            "type": "scattercarpet"
           }
          ],
          "scattergeo": [
           {
            "marker": {
             "colorbar": {
              "outlinewidth": 0,
              "ticks": ""
             }
            },
            "type": "scattergeo"
           }
          ],
          "scattergl": [
           {
            "marker": {
             "colorbar": {
              "outlinewidth": 0,
              "ticks": ""
             }
            },
            "type": "scattergl"
           }
          ],
          "scattermap": [
           {
            "marker": {
             "colorbar": {
              "outlinewidth": 0,
              "ticks": ""
             }
            },
            "type": "scattermap"
           }
          ],
          "scattermapbox": [
           {
            "marker": {
             "colorbar": {
              "outlinewidth": 0,
              "ticks": ""
             }
            },
            "type": "scattermapbox"
           }
          ],
          "scatterpolar": [
           {
            "marker": {
             "colorbar": {
              "outlinewidth": 0,
              "ticks": ""
             }
            },
            "type": "scatterpolar"
           }
          ],
          "scatterpolargl": [
           {
            "marker": {
             "colorbar": {
              "outlinewidth": 0,
              "ticks": ""
             }
            },
            "type": "scatterpolargl"
           }
          ],
          "scatterternary": [
           {
            "marker": {
             "colorbar": {
              "outlinewidth": 0,
              "ticks": ""
             }
            },
            "type": "scatterternary"
           }
          ],
          "surface": [
           {
            "colorbar": {
             "outlinewidth": 0,
             "ticks": ""
            },
            "colorscale": [
             [
              0,
              "#0d0887"
             ],
             [
              0.1111111111111111,
              "#46039f"
             ],
             [
              0.2222222222222222,
              "#7201a8"
             ],
             [
              0.3333333333333333,
              "#9c179e"
             ],
             [
              0.4444444444444444,
              "#bd3786"
             ],
             [
              0.5555555555555556,
              "#d8576b"
             ],
             [
              0.6666666666666666,
              "#ed7953"
             ],
             [
              0.7777777777777778,
              "#fb9f3a"
             ],
             [
              0.8888888888888888,
              "#fdca26"
             ],
             [
              1,
              "#f0f921"
             ]
            ],
            "type": "surface"
           }
          ],
          "table": [
           {
            "cells": {
             "fill": {
              "color": "#EBF0F8"
             },
             "line": {
              "color": "white"
             }
            },
            "header": {
             "fill": {
              "color": "#C8D4E3"
             },
             "line": {
              "color": "white"
             }
            },
            "type": "table"
           }
          ]
         },
         "layout": {
          "annotationdefaults": {
           "arrowcolor": "#2a3f5f",
           "arrowhead": 0,
           "arrowwidth": 1
          },
          "autotypenumbers": "strict",
          "coloraxis": {
           "colorbar": {
            "outlinewidth": 0,
            "ticks": ""
           }
          },
          "colorscale": {
           "diverging": [
            [
             0,
             "#8e0152"
            ],
            [
             0.1,
             "#c51b7d"
            ],
            [
             0.2,
             "#de77ae"
            ],
            [
             0.3,
             "#f1b6da"
            ],
            [
             0.4,
             "#fde0ef"
            ],
            [
             0.5,
             "#f7f7f7"
            ],
            [
             0.6,
             "#e6f5d0"
            ],
            [
             0.7,
             "#b8e186"
            ],
            [
             0.8,
             "#7fbc41"
            ],
            [
             0.9,
             "#4d9221"
            ],
            [
             1,
             "#276419"
            ]
           ],
           "sequential": [
            [
             0,
             "#0d0887"
            ],
            [
             0.1111111111111111,
             "#46039f"
            ],
            [
             0.2222222222222222,
             "#7201a8"
            ],
            [
             0.3333333333333333,
             "#9c179e"
            ],
            [
             0.4444444444444444,
             "#bd3786"
            ],
            [
             0.5555555555555556,
             "#d8576b"
            ],
            [
             0.6666666666666666,
             "#ed7953"
            ],
            [
             0.7777777777777778,
             "#fb9f3a"
            ],
            [
             0.8888888888888888,
             "#fdca26"
            ],
            [
             1,
             "#f0f921"
            ]
           ],
           "sequentialminus": [
            [
             0,
             "#0d0887"
            ],
            [
             0.1111111111111111,
             "#46039f"
            ],
            [
             0.2222222222222222,
             "#7201a8"
            ],
            [
             0.3333333333333333,
             "#9c179e"
            ],
            [
             0.4444444444444444,
             "#bd3786"
            ],
            [
             0.5555555555555556,
             "#d8576b"
            ],
            [
             0.6666666666666666,
             "#ed7953"
            ],
            [
             0.7777777777777778,
             "#fb9f3a"
            ],
            [
             0.8888888888888888,
             "#fdca26"
            ],
            [
             1,
             "#f0f921"
            ]
           ]
          },
          "colorway": [
           "#636efa",
           "#EF553B",
           "#00cc96",
           "#ab63fa",
           "#FFA15A",
           "#19d3f3",
           "#FF6692",
           "#B6E880",
           "#FF97FF",
           "#FECB52"
          ],
          "font": {
           "color": "#2a3f5f"
          },
          "geo": {
           "bgcolor": "white",
           "lakecolor": "white",
           "landcolor": "#E5ECF6",
           "showlakes": true,
           "showland": true,
           "subunitcolor": "white"
          },
          "hoverlabel": {
           "align": "left"
          },
          "hovermode": "closest",
          "mapbox": {
           "style": "light"
          },
          "paper_bgcolor": "white",
          "plot_bgcolor": "#E5ECF6",
          "polar": {
           "angularaxis": {
            "gridcolor": "white",
            "linecolor": "white",
            "ticks": ""
           },
           "bgcolor": "#E5ECF6",
           "radialaxis": {
            "gridcolor": "white",
            "linecolor": "white",
            "ticks": ""
           }
          },
          "scene": {
           "xaxis": {
            "backgroundcolor": "#E5ECF6",
            "gridcolor": "white",
            "gridwidth": 2,
            "linecolor": "white",
            "showbackground": true,
            "ticks": "",
            "zerolinecolor": "white"
           },
           "yaxis": {
            "backgroundcolor": "#E5ECF6",
            "gridcolor": "white",
            "gridwidth": 2,
            "linecolor": "white",
            "showbackground": true,
            "ticks": "",
            "zerolinecolor": "white"
           },
           "zaxis": {
            "backgroundcolor": "#E5ECF6",
            "gridcolor": "white",
            "gridwidth": 2,
            "linecolor": "white",
            "showbackground": true,
            "ticks": "",
            "zerolinecolor": "white"
           }
          },
          "shapedefaults": {
           "line": {
            "color": "#2a3f5f"
           }
          },
          "ternary": {
           "aaxis": {
            "gridcolor": "white",
            "linecolor": "white",
            "ticks": ""
           },
           "baxis": {
            "gridcolor": "white",
            "linecolor": "white",
            "ticks": ""
           },
           "bgcolor": "#E5ECF6",
           "caxis": {
            "gridcolor": "white",
            "linecolor": "white",
            "ticks": ""
           }
          },
          "title": {
           "x": 0.05
          },
          "xaxis": {
           "automargin": true,
           "gridcolor": "white",
           "linecolor": "white",
           "ticks": "",
           "title": {
            "standoff": 15
           },
           "zerolinecolor": "white",
           "zerolinewidth": 2
          },
          "yaxis": {
           "automargin": true,
           "gridcolor": "white",
           "linecolor": "white",
           "ticks": "",
           "title": {
            "standoff": 15
           },
           "zerolinecolor": "white",
           "zerolinewidth": 2
          }
         }
        },
        "xaxis": {
         "anchor": "y",
         "domain": [
          0,
          1
         ],
         "title": {
          "text": "x"
         }
        },
        "yaxis": {
         "anchor": "x",
         "domain": [
          0,
          1
         ],
         "title": {
          "text": "y"
         }
        }
       }
      }
     },
     "metadata": {},
     "output_type": "display_data"
    }
   ],
   "source": [
    "# Visualização inicial do dataset 'make_moons' sem agrupamento.\n",
    "# Este gráfico de dispersão mostra a forma original dos dados, com as duas \"luas\" entrelaçadas.\n",
    "# É importante para entender a complexidade do problema que os algoritmos de clustering tentarão resolver.\n",
    "grafico = px.scatter(x= X_random[:,0], y= X_random[:,1])\n",
    "grafico.show()\n",
    "grafico.write_image(\"images/original_dataset_moon.png\")"
   ]
  },
  {
   "cell_type": "code",
   "execution_count": 15,
   "id": "af550f47",
   "metadata": {},
   "outputs": [],
   "source": [
    "# Aplicação do algoritmo K-Means.\n",
    "# n_clusters=2: Define que o algoritmo deve tentar encontrar 2 clusters.\n",
    "#               Este valor é escolhido porque sabemos (pelo make_moons) que existem 2 estruturas principais.\n",
    "# rotulos_kmeans: Armazena os rótulos de cluster atribuídos pelo K-Means a cada ponto de dados.\n",
    "kmeans = KMeans(n_clusters=2)\n",
    "rotulos_kmeans = kmeans.fit_predict(X_random)"
   ]
  },
  {
   "cell_type": "code",
   "execution_count": 16,
   "id": "d619c95b",
   "metadata": {},
   "outputs": [
    {
     "data": {
      "application/vnd.plotly.v1+json": {
       "config": {
        "plotlyServerURL": "https://plot.ly"
       },
       "data": [
        {
         "hovertemplate": "x=%{x}<br>y=%{y}<br>color=%{marker.color}<extra></extra>",
         "legendgroup": "",
         "marker": {
          "color": {
           "bdata": "AAAAAAEAAAABAAAAAQAAAAAAAAAAAAAAAAAAAAEAAAABAAAAAQAAAAAAAAABAAAAAQAAAAAAAAABAAAAAAAAAAEAAAAAAAAAAQAAAAEAAAABAAAAAAAAAAAAAAAAAAAAAAAAAAEAAAABAAAAAAAAAAAAAAAAAAAAAQAAAAAAAAABAAAAAQAAAAAAAAAAAAAAAQAAAAEAAAAAAAAAAAAAAAAAAAABAAAAAAAAAAAAAAABAAAAAAAAAAAAAAABAAAAAQAAAAEAAAAAAAAAAAAAAAEAAAABAAAAAAAAAAAAAAABAAAAAAAAAAEAAAABAAAAAQAAAAEAAAABAAAAAAAAAAEAAAABAAAAAAAAAAAAAAABAAAAAAAAAAAAAAAAAAAAAAAAAAAAAAAAAAAAAAAAAAEAAAAAAAAAAQAAAAEAAAABAAAAAQAAAAAAAAAAAAAAAQAAAAEAAAAAAAAAAQAAAAEAAAAAAAAAAQAAAAAAAAAAAAAAAQAAAAAAAAABAAAAAAAAAAAAAAAAAAAAAQAAAAEAAAABAAAAAAAAAAAAAAABAAAAAQAAAAAAAAAAAAAAAAAAAAEAAAAAAAAAAQAAAAEAAAAAAAAAAAAAAAAAAAABAAAAAAAAAAEAAAAAAAAAAQAAAAAAAAAAAAAAAAAAAAEAAAABAAAAAAAAAAEAAAAAAAAAAQAAAAAAAAAAAAAAAQAAAAAAAAABAAAAAAAAAAEAAAABAAAAAQAAAAEAAAABAAAAAAAAAAAAAAAAAAAAAAAAAAEAAAABAAAAAAAAAAEAAAAAAAAAAQAAAAEAAAAAAAAAAQAAAAEAAAABAAAAAQAAAAAAAAABAAAAAQAAAAEAAAAAAAAAAAAAAAEAAAAAAAAAAAAAAAAAAAAAAAAAAAAAAAEAAAAAAAAAAAAAAAAAAAAAAAAAAQAAAAEAAAABAAAAAQAAAAAAAAAAAAAAAQAAAAAAAAABAAAAAAAAAAAAAAABAAAAAAAAAAAAAAAAAAAAAQAAAAAAAAAAAAAAAAAAAAEAAAABAAAAAQAAAAEAAAAAAAAAAAAAAAEAAAABAAAAAAAAAAEAAAABAAAAAAAAAAEAAAAAAAAAAQAAAAAAAAAAAAAAAAAAAAAAAAAAAAAAAQAAAAEAAAABAAAAAQAAAAEAAAABAAAAAAAAAAEAAAAAAAAAAQAAAAEAAAAAAAAAAQAAAAAAAAAAAAAAAAAAAAEAAAAAAAAAAAAAAAEAAAAAAAAAAAAAAAAAAAABAAAAAQAAAAAAAAABAAAAAQAAAAAAAAAAAAAAAAAAAAAAAAABAAAAAAAAAAEAAAAAAAAAAAAAAAAAAAAAAAAAAQAAAAAAAAAAAAAAAAAAAAEAAAABAAAAAQAAAAAAAAAAAAAAAQAAAAAAAAAAAAAAAQAAAAAAAAAAAAAAAAAAAAEAAAABAAAAAQAAAAEAAAABAAAAAAAAAAAAAAAAAAAAAAAAAAEAAAABAAAAAQAAAAEAAAABAAAAAAAAAAAAAAAAAAAAAQAAAAEAAAAAAAAAAQAAAAEAAAABAAAAAAAAAAEAAAABAAAAAQAAAAEAAAAAAAAAAAAAAAAAAAAAAAAAAAAAAAAAAAAAAAAAAQAAAAAAAAAAAAAAAAAAAAEAAAABAAAAAQAAAAEAAAABAAAAAQAAAAAAAAAAAAAAAAAAAAAAAAABAAAAAAAAAAEAAAAAAAAAAAAAAAAAAAAAAAAAAQAAAAEAAAAAAAAAAQAAAAAAAAABAAAAAAAAAAEAAAAAAAAAAAAAAAEAAAABAAAAAAAAAAAAAAAAAAAAAQAAAAAAAAAAAAAAAQAAAAEAAAAAAAAAAQAAAAEAAAAAAAAAAQAAAAEAAAAAAAAAAQAAAAAAAAABAAAAAAAAAAAAAAABAAAAAQAAAAEAAAAAAAAAAQAAAAEAAAAAAAAAAAAAAAAAAAABAAAAAQAAAAAAAAABAAAAAAAAAAAAAAABAAAAAAAAAAAAAAABAAAAAQAAAAEAAAABAAAAAAAAAAEAAAAAAAAAAQAAAAEAAAAAAAAAAAAAAAAAAAABAAAAAQAAAAEAAAAAAAAAAQAAAAEAAAAAAAAAAAAAAAAAAAAAAAAAAAAAAAAAAAAAAAAAAAAAAAEAAAAAAAAAAQAAAAAAAAAAAAAAAAAAAAAAAAABAAAAAQAAAAEAAAABAAAAAQAAAAEAAAAAAAAAAQAAAAEAAAABAAAAAAAAAAEAAAAAAAAAAAAAAAEAAAAAAAAAAQAAAAAAAAAAAAAAAQAAAAAAAAABAAAAAAAAAAEAAAAAAAAAAQAAAAEAAAAAAAAAAQAAAAAAAAAAAAAAAQAAAAAAAAABAAAAAQAAAAEAAAABAAAAAAAAAAEAAAAAAAAAAAAAAAAAAAAAAAAAAAAAAAAAAAAAAAAAAAAAAAEAAAAAAAAAAAAAAAAAAAAAAAAAAAAAAAEAAAAAAAAAAAAAAAEAAAABAAAAAAAAAAAAAAABAAAAAAAAAAAAAAABAAAAAAAAAAEAAAAAAAAAAQAAAAAAAAAAAAAAAAAAAAAAAAABAAAAAQAAAAEAAAABAAAAAAAAAAAAAAAAAAAAAQAAAAAAAAAAAAAAAQAAAAEAAAABAAAAAQAAAAEAAAABAAAAAAAAAAEAAAAAAAAAAAAAAAEAAAABAAAAAQAAAAAAAAAAAAAAAAAAAAEAAAAAAAAAAAAAAAAAAAABAAAAAQAAAAAAAAAAAAAAAQAAAAAAAAAAAAAAAAAAAAEAAAABAAAAAQAAAAEAAAAAAAAAAQAAAAAAAAABAAAAAQAAAAEAAAAAAAAAAAAAAAEAAAABAAAAAQAAAAAAAAABAAAAAQAAAAEAAAABAAAAAAAAAAEAAAABAAAAAQAAAAEAAAABAAAAAQAAAAEAAAAAAAAAAAAAAAAAAAABAAAAAAAAAAEAAAAAAAAAAQAAAAAAAAABAAAAAAAAAAEAAAABAAAAAAAAAAEAAAABAAAAAAAAAAEAAAAAAAAAAQAAAAAAAAAAAAAAAAAAAAAAAAABAAAAAQAAAAAAAAAAAAAAAQAAAAAAAAAAAAAAAQAAAAAAAAABAAAAAAAAAAEAAAABAAAAAQAAAAAAAAAAAAAAAQAAAAAAAAAAAAAAAAAAAAEAAAABAAAAAAAAAAAAAAABAAAAAAAAAAEAAAABAAAAAQAAAAAAAAAAAAAAAQAAAAEAAAAAAAAAAQAAAAEAAAAAAAAAAQAAAAEAAAABAAAAAAAAAAEAAAABAAAAAAAAAAAAAAABAAAAAAAAAAAAAAABAAAAAQAAAAAAAAAAAAAAAAAAAAEAAAABAAAAAQAAAAAAAAAAAAAAAAAAAAEAAAAAAAAAAQAAAAEAAAAAAAAAAAAAAAEAAAABAAAAAAAAAAAAAAAAAAAAAAAAAAAAAAAAAAAAAQAAAAAAAAABAAAAAQAAAAEAAAAAAAAAAAAAAAEAAAABAAAAAQAAAAAAAAAAAAAAAQAAAAEAAAABAAAAAQAAAAAAAAABAAAAAQAAAAAAAAABAAAAAQAAAAEAAAABAAAAAQAAAAAAAAAAAAAAAQAAAAAAAAAAAAAAAQAAAAAAAAAAAAAAAQAAAAAAAAABAAAAAQAAAAAAAAABAAAAAAAAAAEAAAAAAAAAAQAAAAAAAAAAAAAAAAAAAAAAAAABAAAAAQAAAAEAAAABAAAAAAAAAAAAAAABAAAAAAAAAAEAAAABAAAAAAAAAAAAAAAAAAAAAQAAAAAAAAAAAAAAAAAAAAAAAAABAAAAAAAAAAAAAAAAAAAAAQAAAAAAAAABAAAAAAAAAAAAAAABAAAAAAAAAAAAAAAAAAAAAAAAAAEAAAAAAAAAAAAAAAEAAAABAAAAAAAAAAAAAAABAAAAAAAAAAEAAAABAAAAAAAAAAEAAAABAAAAAAAAAAAAAAABAAAAAAAAAAEAAAABAAAAAAAAAAAAAAAAAAAAAAAAAAEAAAAAAAAAAAAAAAAAAAABAAAAAAAAAAAAAAAAAAAAAQAAAAEAAAABAAAAAAAAAAEAAAAAAAAAAQAAAAEAAAABAAAAAQAAAAEAAAABAAAAAQAAAAAAAAABAAAAAAAAAAEAAAAAAAAAAQAAAAAAAAAAAAAAAAAAAAEAAAABAAAAAQAAAAEAAAAAAAAAAQAAAAEAAAABAAAAAAAAAAEAAAAAAAAAAAAAAAAAAAAAAAAAAAAAAAEAAAABAAAAAAAAAAAAAAABAAAAAQAAAAAAAAABAAAAAAAAAAAAAAABAAAAAQAAAAEAAAABAAAAAAAAAAEAAAAAAAAAAQAAAAEAAAAAAAAAAQAAAAEAAAABAAAAAQAAAAAAAAABAAAAAQAAAAEAAAABAAAAAQAAAAEAAAAAAAAAAAAAAAEAAAABAAAAAQAAAAEAAAABAAAAAAAAAAEAAAABAAAAAAAAAAAAAAABAAAAAQAAAAAAAAABAAAAAAAAAAEAAAAAAAAAAAAAAAAAAAAAAAAAAAAAAAEAAAABAAAAAQAAAAAAAAAAAAAAAAAAAAAAAAABAAAAAQAAAAEAAAABAAAAAAAAAAEAAAABAAAAAQAAAAEAAAAAAAAAAAAAAAAAAAABAAAAAAAAAAAAAAAAAAAAAAAAAAEAAAAAAAAAAAAAAAAAAAABAAAAAAAAAAEAAAABAAAAAAAAAAAAAAAAAAAAAAAAAAAAAAABAAAAAQAAAAEAAAABAAAAAAAAAAEAAAABAAAAAQAAAAEAAAAAAAAAAAAAAAAAAAABAAAAAAAAAAAAAAABAAAAAQAAAAAAAAAAAAAAAAAAAAEAAAABAAAAAAAAAAEAAAAAAAAAAQAAAAEAAAAAAAAAAQAAAAEAAAAAAAAAAQAAAAAAAAABAAAAAAAAAAAAAAABAAAAAQAAAAAAAAAAAAAAAQAAAAEAAAAAAAAAAQAAAAAAAAAAAAAAAQAAAAAAAAABAAAAAQAAAAEAAAABAAAAAQAAAAEAAAABAAAAAQAAAAAAAAABAAAAAAAAAAEAAAABAAAAAQAAAAAAAAAAAAAAAAAAAAAAAAABAAAAAQAAAAEAAAAAAAAAAQAAAAAAAAAAAAAAAQAAAAAAAAABAAAAAQAAAAEAAAABAAAAAAAAAAEAAAAAAAAAAAAAAAAAAAAAAAAAAAAAAAEAAAABAAAAAAAAAAAAAAAAAAAAAAAAAAEAAAAAAAAAAAAAAAEAAAABAAAAAAAAAAAAAAAAAAAAAQAAAAEAAAAAAAAAAAAAAAEAAAAAAAAAAAAAAAEAAAAAAAAAAQAAAAAAAAAAAAAAAQAAAAEAAAABAAAAAQAAAAEAAAABAAAAAQAAAAEAAAABAAAAAQAAAAAAAAAAAAAAAQAAAAEAAAABAAAAAQAAAAAAAAAAAAAAAAAAAAAAAAABAAAAAQAAAAEAAAABAAAAAAAAAAEAAAABAAAAAQAAAAAAAAAAAAAAAAAAAAAAAAAAAAAAAAAAAAEAAAAAAAAAAQAAAAEAAAAAAAAAAQAAAAAAAAABAAAAAQAAAAEAAAABAAAAAAAAAAAAAAAAAAAAAQAAAAEAAAAAAAAAAQAAAAAAAAAAAAAAAAAAAAAAAAABAAAAAQAAAAAAAAABAAAAAAAAAAEAAAABAAAAAAAAAAEAAAAAAAAAAAAAAAEAAAABAAAAAQAAAAEAAAAAAAAAAAAAAAAAAAAAAAAAAAAAAAEAAAAAAAAAAAAAAAEAAAABAAAAAQAAAAEAAAABAAAAAAAAAAAAAAABAAAAAAAAAAAAAAAAAAAAAQAAAAEAAAABAAAAAQAAAAAAAAABAAAAAQAAAAAAAAAAAAAAAAAAAAAAAAABAAAAAAAAAAEAAAABAAAAAQAAAAAAAAABAAAAAQAAAAAAAAAAAAAAAQAAAAEAAAABAAAAAQAAAAEAAAABAAAAAAAAAAAAAAAAAAAAAAAAAAEAAAABAAAAAQAAAAEAAAAAAAAAAQAAAAAAAAAAAAAAAAAAAAEAAAAAAAAAAQAAAAAAAAAAAAAAAQAAAAEAAAAAAAAAAQAAAAAAAAAAAAAAAQAAAAEAAAABAAAAAQAAAAAAAAAAAAAAAQAAAAEAAAABAAAAAQAAAAEAAAABAAAAAQAAAAEAAAAAAAAAAAAAAAEAAAAAAAAAAQAAAAAAAAAAAAAAAAAAAAEAAAAAAAAAAAAAAAAAAAABAAAAAAAAAAAAAAAAAAAAAQAAAAEAAAABAAAAAQAAAAEAAAAAAAAAAAAAAAAAAAAAAAAAAQAAAAEAAAABAAAAAQAAAAAAAAAAAAAAAQAAAAAAAAABAAAAAAAAAAAAAAABAAAAAQAAAAAAAAAAAAAAAAAAAAEAAAAAAAAAAAAAAAEAAAAAAAAAAAAAAAEAAAAAAAAAAQAAAAAAAAAAAAAAAAAAAAAAAAABAAAAAAAAAAEAAAABAAAAAQAAAAAAAAAAAAAAAQAAAAEAAAAAAAAAAAAAAAAAAAAAAAAAAAAAAAAAAAAAAAAAAAAAAAEAAAAAAAAAAQAAAAEAAAABAAAAAQAAAAEAAAABAAAAAAAAAAEAAAAAAAAAAQAAAAEAAAAAAAAAAAAAAAEAAAABAAAAAQAAAAEAAAABAAAAAQAAAAAAAAAAAAAAAQAAAAAAAAABAAAAAQAAAAEAAAAAAAAAAAAAAAEAAAABAAAAAAAAAAEAAAAAAAAAAQAAAAEAAAAAAAAAAAAAAAEAAAABAAAAAAAAAAAAAAAAAAAAAQAAAAAAAAAAAAAAAQAAAAAAAAAAAAAAAQAAAAEAAAABAAAAAQAAAAAAAAAAAAAAAAAAAAEAAAAAAAAAAQAAAAAAAAABAAAAAQAAAAAAAAABAAAAAAAAAAEAAAAAAAAAAAAAAAAAAAABAAAAAAAAAAEAAAABAAAAAAAAAAEAAAAAAAAAAQAAAAAAAAABAAAAAQAAAAAAAAAAAAAAAQAAAAAAAAAAAAAAAAAAAAEAAAABAAAAAAAAAAAAAAABAAAAAQAAAAAAAAABAAAAAAAAAAAAAAABAAAAAAAAAAAAAAABAAAAAQAAAAEAAAABAAAAAAAAAAAAAAABAAAAAQAAAAEAAAAAAAAAAQAAAAEAAAAAAAAAAQAAAAEAAAAAAAAAAQAAAAEAAAABAAAAAQAAAAAAAAAAAAAAAAAAAAEAAAAAAAAAAAAAAAAAAAAAAAAAAQAAAAAAAAAAAAAAAQAAAAAAAAAAAAAAAAAAAAAAAAAAAAAAAAAAAAAAAAAAAAAAAAAAAAAAAAABAAAAAAAAAAAAAAAAAAAAAQAAAAAAAAABAAAAAQAAAAAAAAABAAAAAQAAAAAAAAAAAAAAAAAAAAAAAAABAAAAAAAAAAAAAAAAAAAAAQAAAAAAAAABAAAAAAAAAAEAAAAAAAAAAQAAAAAAAAABAAAAAQAAAAEAAAAAAAAAAAAAAAEAAAAAAAAAAAAAAAAAAAABAAAAAAAAAAAAAAABAAAAAQAAAAAAAAABAAAAAQAAAAAAAAAAAAAAAQAAAAEAAAAAAAAAAQAAAAEAAAABAAAAAAAAAAEAAAAAAAAAAQAAAAEAAAAAAAAAAQAAAAEAAAABAAAAAAAAAAEAAAABAAAAAQAAAAEAAAABAAAAAQAAAAAAAAABAAAAAQAAAAAAAAAAAAAAAQAAAAAAAAAAAAAAAQAAAAEAAAAAAAAAAAAAAAEAAAAAAAAAAAAAAAEAAAABAAAAAAAAAAEAAAAAAAAAAQAAAAAAAAABAAAAAQAAAAAAAAAAAAAAAQAAAAEAAAABAAAAAQAAAAAAAAAAAAAAAAAAAAAAAAABAAAAAAAAAAEAAAABAAAAAQAAAAAAAAABAAAAAQAAAAAAAAABAAAAAAAAAAEAAAABAAAAAAAAAAEAAAAAAAAAAAAAAAAAAAAAAAAAAQAAAAEAAAABAAAAAQAAAAEAAAABAAAAAQAAAAEAAAABAAAAAAAAAAEAAAAAAAAAAQAAAAEAAAABAAAAAQAAAAEAAAAAAAAA",
           "dtype": "i4"
          },
          "coloraxis": "coloraxis",
          "symbol": "circle"
         },
         "mode": "markers",
         "name": "",
         "showlegend": false,
         "type": "scattergl",
         "x": {
          "bdata": "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",
          "dtype": "f8"
         },
         "xaxis": "x",
         "y": {
          "bdata": "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",
          "dtype": "f8"
         },
         "yaxis": "y"
        },
        {
         "hovertemplate": "x=%{x}<br>y=%{y}<br>size=%{marker.size}<extra></extra>",
         "legendgroup": "",
         "marker": {
          "color": "#636efa",
          "size": {
           "bdata": "AgI=",
           "dtype": "i1"
          },
          "sizemode": "area",
          "sizeref": 0.005,
          "symbol": "circle"
         },
         "mode": "markers",
         "name": "",
         "orientation": "v",
         "showlegend": false,
         "type": "scatter",
         "x": {
          "bdata": "9zbebGRW8z8mBBvu4C/Jvw==",
          "dtype": "f8"
         },
         "xaxis": "x",
         "y": {
          "bdata": "dPT2et5Fs782hxu2GFziPw==",
          "dtype": "f8"
         },
         "yaxis": "y"
        }
       ],
       "layout": {
        "template": {
         "data": {
          "bar": [
           {
            "error_x": {
             "color": "#2a3f5f"
            },
            "error_y": {
             "color": "#2a3f5f"
            },
            "marker": {
             "line": {
              "color": "#E5ECF6",
              "width": 0.5
             },
             "pattern": {
              "fillmode": "overlay",
              "size": 10,
              "solidity": 0.2
             }
            },
            "type": "bar"
           }
          ],
          "barpolar": [
           {
            "marker": {
             "line": {
              "color": "#E5ECF6",
              "width": 0.5
             },
             "pattern": {
              "fillmode": "overlay",
              "size": 10,
              "solidity": 0.2
             }
            },
            "type": "barpolar"
           }
          ],
          "carpet": [
           {
            "aaxis": {
             "endlinecolor": "#2a3f5f",
             "gridcolor": "white",
             "linecolor": "white",
             "minorgridcolor": "white",
             "startlinecolor": "#2a3f5f"
            },
            "baxis": {
             "endlinecolor": "#2a3f5f",
             "gridcolor": "white",
             "linecolor": "white",
             "minorgridcolor": "white",
             "startlinecolor": "#2a3f5f"
            },
            "type": "carpet"
           }
          ],
          "choropleth": [
           {
            "colorbar": {
             "outlinewidth": 0,
             "ticks": ""
            },
            "type": "choropleth"
           }
          ],
          "contour": [
           {
            "colorbar": {
             "outlinewidth": 0,
             "ticks": ""
            },
            "colorscale": [
             [
              0,
              "#0d0887"
             ],
             [
              0.1111111111111111,
              "#46039f"
             ],
             [
              0.2222222222222222,
              "#7201a8"
             ],
             [
              0.3333333333333333,
              "#9c179e"
             ],
             [
              0.4444444444444444,
              "#bd3786"
             ],
             [
              0.5555555555555556,
              "#d8576b"
             ],
             [
              0.6666666666666666,
              "#ed7953"
             ],
             [
              0.7777777777777778,
              "#fb9f3a"
             ],
             [
              0.8888888888888888,
              "#fdca26"
             ],
             [
              1,
              "#f0f921"
             ]
            ],
            "type": "contour"
           }
          ],
          "contourcarpet": [
           {
            "colorbar": {
             "outlinewidth": 0,
             "ticks": ""
            },
            "type": "contourcarpet"
           }
          ],
          "heatmap": [
           {
            "colorbar": {
             "outlinewidth": 0,
             "ticks": ""
            },
            "colorscale": [
             [
              0,
              "#0d0887"
             ],
             [
              0.1111111111111111,
              "#46039f"
             ],
             [
              0.2222222222222222,
              "#7201a8"
             ],
             [
              0.3333333333333333,
              "#9c179e"
             ],
             [
              0.4444444444444444,
              "#bd3786"
             ],
             [
              0.5555555555555556,
              "#d8576b"
             ],
             [
              0.6666666666666666,
              "#ed7953"
             ],
             [
              0.7777777777777778,
              "#fb9f3a"
             ],
             [
              0.8888888888888888,
              "#fdca26"
             ],
             [
              1,
              "#f0f921"
             ]
            ],
            "type": "heatmap"
           }
          ],
          "histogram": [
           {
            "marker": {
             "pattern": {
              "fillmode": "overlay",
              "size": 10,
              "solidity": 0.2
             }
            },
            "type": "histogram"
           }
          ],
          "histogram2d": [
           {
            "colorbar": {
             "outlinewidth": 0,
             "ticks": ""
            },
            "colorscale": [
             [
              0,
              "#0d0887"
             ],
             [
              0.1111111111111111,
              "#46039f"
             ],
             [
              0.2222222222222222,
              "#7201a8"
             ],
             [
              0.3333333333333333,
              "#9c179e"
             ],
             [
              0.4444444444444444,
              "#bd3786"
             ],
             [
              0.5555555555555556,
              "#d8576b"
             ],
             [
              0.6666666666666666,
              "#ed7953"
             ],
             [
              0.7777777777777778,
              "#fb9f3a"
             ],
             [
              0.8888888888888888,
              "#fdca26"
             ],
             [
              1,
              "#f0f921"
             ]
            ],
            "type": "histogram2d"
           }
          ],
          "histogram2dcontour": [
           {
            "colorbar": {
             "outlinewidth": 0,
             "ticks": ""
            },
            "colorscale": [
             [
              0,
              "#0d0887"
             ],
             [
              0.1111111111111111,
              "#46039f"
             ],
             [
              0.2222222222222222,
              "#7201a8"
             ],
             [
              0.3333333333333333,
              "#9c179e"
             ],
             [
              0.4444444444444444,
              "#bd3786"
             ],
             [
              0.5555555555555556,
              "#d8576b"
             ],
             [
              0.6666666666666666,
              "#ed7953"
             ],
             [
              0.7777777777777778,
              "#fb9f3a"
             ],
             [
              0.8888888888888888,
              "#fdca26"
             ],
             [
              1,
              "#f0f921"
             ]
            ],
            "type": "histogram2dcontour"
           }
          ],
          "mesh3d": [
           {
            "colorbar": {
             "outlinewidth": 0,
             "ticks": ""
            },
            "type": "mesh3d"
           }
          ],
          "parcoords": [
           {
            "line": {
             "colorbar": {
              "outlinewidth": 0,
              "ticks": ""
             }
            },
            "type": "parcoords"
           }
          ],
          "pie": [
           {
            "automargin": true,
            "type": "pie"
           }
          ],
          "scatter": [
           {
            "fillpattern": {
             "fillmode": "overlay",
             "size": 10,
             "solidity": 0.2
            },
            "type": "scatter"
           }
          ],
          "scatter3d": [
           {
            "line": {
             "colorbar": {
              "outlinewidth": 0,
              "ticks": ""
             }
            },
            "marker": {
             "colorbar": {
              "outlinewidth": 0,
              "ticks": ""
             }
            },
            "type": "scatter3d"
           }
          ],
          "scattercarpet": [
           {
            "marker": {
             "colorbar": {
              "outlinewidth": 0,
              "ticks": ""
             }
            },
            "type": "scattercarpet"
           }
          ],
          "scattergeo": [
           {
            "marker": {
             "colorbar": {
              "outlinewidth": 0,
              "ticks": ""
             }
            },
            "type": "scattergeo"
           }
          ],
          "scattergl": [
           {
            "marker": {
             "colorbar": {
              "outlinewidth": 0,
              "ticks": ""
             }
            },
            "type": "scattergl"
           }
          ],
          "scattermap": [
           {
            "marker": {
             "colorbar": {
              "outlinewidth": 0,
              "ticks": ""
             }
            },
            "type": "scattermap"
           }
          ],
          "scattermapbox": [
           {
            "marker": {
             "colorbar": {
              "outlinewidth": 0,
              "ticks": ""
             }
            },
            "type": "scattermapbox"
           }
          ],
          "scatterpolar": [
           {
            "marker": {
             "colorbar": {
              "outlinewidth": 0,
              "ticks": ""
             }
            },
            "type": "scatterpolar"
           }
          ],
          "scatterpolargl": [
           {
            "marker": {
             "colorbar": {
              "outlinewidth": 0,
              "ticks": ""
             }
            },
            "type": "scatterpolargl"
           }
          ],
          "scatterternary": [
           {
            "marker": {
             "colorbar": {
              "outlinewidth": 0,
              "ticks": ""
             }
            },
            "type": "scatterternary"
           }
          ],
          "surface": [
           {
            "colorbar": {
             "outlinewidth": 0,
             "ticks": ""
            },
            "colorscale": [
             [
              0,
              "#0d0887"
             ],
             [
              0.1111111111111111,
              "#46039f"
             ],
             [
              0.2222222222222222,
              "#7201a8"
             ],
             [
              0.3333333333333333,
              "#9c179e"
             ],
             [
              0.4444444444444444,
              "#bd3786"
             ],
             [
              0.5555555555555556,
              "#d8576b"
             ],
             [
              0.6666666666666666,
              "#ed7953"
             ],
             [
              0.7777777777777778,
              "#fb9f3a"
             ],
             [
              0.8888888888888888,
              "#fdca26"
             ],
             [
              1,
              "#f0f921"
             ]
            ],
            "type": "surface"
           }
          ],
          "table": [
           {
            "cells": {
             "fill": {
              "color": "#EBF0F8"
             },
             "line": {
              "color": "white"
             }
            },
            "header": {
             "fill": {
              "color": "#C8D4E3"
             },
             "line": {
              "color": "white"
             }
            },
            "type": "table"
           }
          ]
         },
         "layout": {
          "annotationdefaults": {
           "arrowcolor": "#2a3f5f",
           "arrowhead": 0,
           "arrowwidth": 1
          },
          "autotypenumbers": "strict",
          "coloraxis": {
           "colorbar": {
            "outlinewidth": 0,
            "ticks": ""
           }
          },
          "colorscale": {
           "diverging": [
            [
             0,
             "#8e0152"
            ],
            [
             0.1,
             "#c51b7d"
            ],
            [
             0.2,
             "#de77ae"
            ],
            [
             0.3,
             "#f1b6da"
            ],
            [
             0.4,
             "#fde0ef"
            ],
            [
             0.5,
             "#f7f7f7"
            ],
            [
             0.6,
             "#e6f5d0"
            ],
            [
             0.7,
             "#b8e186"
            ],
            [
             0.8,
             "#7fbc41"
            ],
            [
             0.9,
             "#4d9221"
            ],
            [
             1,
             "#276419"
            ]
           ],
           "sequential": [
            [
             0,
             "#0d0887"
            ],
            [
             0.1111111111111111,
             "#46039f"
            ],
            [
             0.2222222222222222,
             "#7201a8"
            ],
            [
             0.3333333333333333,
             "#9c179e"
            ],
            [
             0.4444444444444444,
             "#bd3786"
            ],
            [
             0.5555555555555556,
             "#d8576b"
            ],
            [
             0.6666666666666666,
             "#ed7953"
            ],
            [
             0.7777777777777778,
             "#fb9f3a"
            ],
            [
             0.8888888888888888,
             "#fdca26"
            ],
            [
             1,
             "#f0f921"
            ]
           ],
           "sequentialminus": [
            [
             0,
             "#0d0887"
            ],
            [
             0.1111111111111111,
             "#46039f"
            ],
            [
             0.2222222222222222,
             "#7201a8"
            ],
            [
             0.3333333333333333,
             "#9c179e"
            ],
            [
             0.4444444444444444,
             "#bd3786"
            ],
            [
             0.5555555555555556,
             "#d8576b"
            ],
            [
             0.6666666666666666,
             "#ed7953"
            ],
            [
             0.7777777777777778,
             "#fb9f3a"
            ],
            [
             0.8888888888888888,
             "#fdca26"
            ],
            [
             1,
             "#f0f921"
            ]
           ]
          },
          "colorway": [
           "#636efa",
           "#EF553B",
           "#00cc96",
           "#ab63fa",
           "#FFA15A",
           "#19d3f3",
           "#FF6692",
           "#B6E880",
           "#FF97FF",
           "#FECB52"
          ],
          "font": {
           "color": "#2a3f5f"
          },
          "geo": {
           "bgcolor": "white",
           "lakecolor": "white",
           "landcolor": "#E5ECF6",
           "showlakes": true,
           "showland": true,
           "subunitcolor": "white"
          },
          "hoverlabel": {
           "align": "left"
          },
          "hovermode": "closest",
          "mapbox": {
           "style": "light"
          },
          "paper_bgcolor": "white",
          "plot_bgcolor": "#E5ECF6",
          "polar": {
           "angularaxis": {
            "gridcolor": "white",
            "linecolor": "white",
            "ticks": ""
           },
           "bgcolor": "#E5ECF6",
           "radialaxis": {
            "gridcolor": "white",
            "linecolor": "white",
            "ticks": ""
           }
          },
          "scene": {
           "xaxis": {
            "backgroundcolor": "#E5ECF6",
            "gridcolor": "white",
            "gridwidth": 2,
            "linecolor": "white",
            "showbackground": true,
            "ticks": "",
            "zerolinecolor": "white"
           },
           "yaxis": {
            "backgroundcolor": "#E5ECF6",
            "gridcolor": "white",
            "gridwidth": 2,
            "linecolor": "white",
            "showbackground": true,
            "ticks": "",
            "zerolinecolor": "white"
           },
           "zaxis": {
            "backgroundcolor": "#E5ECF6",
            "gridcolor": "white",
            "gridwidth": 2,
            "linecolor": "white",
            "showbackground": true,
            "ticks": "",
            "zerolinecolor": "white"
           }
          },
          "shapedefaults": {
           "line": {
            "color": "#2a3f5f"
           }
          },
          "ternary": {
           "aaxis": {
            "gridcolor": "white",
            "linecolor": "white",
            "ticks": ""
           },
           "baxis": {
            "gridcolor": "white",
            "linecolor": "white",
            "ticks": ""
           },
           "bgcolor": "#E5ECF6",
           "caxis": {
            "gridcolor": "white",
            "linecolor": "white",
            "ticks": ""
           }
          },
          "title": {
           "x": 0.05
          },
          "xaxis": {
           "automargin": true,
           "gridcolor": "white",
           "linecolor": "white",
           "ticks": "",
           "title": {
            "standoff": 15
           },
           "zerolinecolor": "white",
           "zerolinewidth": 2
          },
          "yaxis": {
           "automargin": true,
           "gridcolor": "white",
           "linecolor": "white",
           "ticks": "",
           "title": {
            "standoff": 15
           },
           "zerolinecolor": "white",
           "zerolinewidth": 2
          }
         }
        }
       }
      }
     },
     "metadata": {},
     "output_type": "display_data"
    }
   ],
   "source": [
    "# Visualização dos resultados do K-Means, incluindo os centroides.\n",
    "# centroides_kmeans: Coordenadas dos centroides de cada cluster encontrados pelo K-Means.\n",
    "# grafico_kmeans1: Gráfico de dispersão dos pontos, coloridos pelos rótulos do K-Means.\n",
    "# grafico_kmeans2: Gráfico de dispersão dos centroides, com tamanho maior para destaque.\n",
    "# grafico_kmeans3: Combina os dois gráficos anteriores em uma única figura interativa.\n",
    "#                  Isso permite ver os clusters e seus respectivos centros juntos.\n",
    "centroides_kmeans = kmeans.cluster_centers_\n",
    "grafico_kmeans1 = px.scatter(x= X_random[:,0], y= X_random[:,1], color= rotulos_kmeans)\n",
    "grafico_kmeans2 = px.scatter(x= centroides_kmeans[:,0], y= centroides_kmeans[:,1], size= [2,2])\n",
    "grafico_kmeans3 = go.Figure(data= grafico_kmeans1.data + grafico_kmeans2.data)\n",
    "grafico_kmeans3.show()\n",
    "grafico_kmeans3.write_image(\"images/kmeans_clusters_and_centroids.png\")"
   ]
  },
  {
   "cell_type": "code",
   "execution_count": 17,
   "id": "e78cf589",
   "metadata": {},
   "outputs": [
    {
     "data": {
      "application/vnd.plotly.v1+json": {
       "config": {
        "plotlyServerURL": "https://plot.ly"
       },
       "data": [
        {
         "hovertemplate": "x=%{x}<br>y=%{y}<br>color=%{marker.color}<extra></extra>",
         "legendgroup": "",
         "marker": {
          "color": {
           "bdata": "AAEBAQAAAAEBAQABAQABAAEAAQEBAAAAAAEBAAAAAAABAQAAAQEAAAABAAABAAABAQEAAAEBAAABAAEBAQEBAAEBAAABAAAAAAAAAAEAAQEBAQAAAQEAAQEAAQAAAQABAAAAAQEBAAABAQAAAAEAAQEAAAABAAEAAQAAAAEBAAEAAAAAAQABAAEBAAEBAAAAAAEBAAEAAQEAAQEBAQABAQEAAAEAAAAAAAEAAAAAAQEBAQAAAAABAAABAAAAAQAAAAEBAQEAAAEBAAEBAAEAAQAAAAAAAQEBAQEBAAEAAQEAAQAAAAEAAAEAAAABAQABAQAAAAABAAEAAAAAAQAAAAEBAQAAAQAAAQAAAAEBAQEBAAAAAAEBAQEBAAAAAQEAAQEBAAEBAQEAAAAAAAAAAAAAAAEBAQEBAQAAAAABAAAAAAAAAQEAAQABAAEAAAEBAAAAAQAAAQEAAQEAAQEAAQABAAABAQEAAQEAAAABAQABAAABAAABAQEBAAEAAQEAAAABAQEAAQEAAAAAAAAAAAEAAQAAAAABAQEBAQEAAQEBAAEAAAEAAQAAAQABAAEAAQEAAQAAAQABAQEBAAEAAAAAAAAAAAEAAAAAAAEAAAEBAAABAAABAAEAAQAAAAABAQEBAAAAAQAAAQEBAQEBAAEAAAEBAQAAAAEAAAABAQAAAQAAAAEBAQEAAQABAQEAAAEBAQABAQEBAAABAQEBAQAAAAABAAEAAQABAAABAAEBAAEAAQAAAAABAQAAAQAAAQABAAEBAQAAAQAAAAEBAAAAAAEBAQAAAQEAAQEAAQEBAAEBAAABAAABAQAAAAEBAQAAAAEAAQEAAAEBAAAAAAAAAQABAQEAAAEBAQAAAAEBAQAAAQABAQEBAQAAAQAAAQAAAQABAQABAAEAAQAAAAABAQEBAAABAAEBAAAAAQAAAAABAAAAAQABAAABAAAAAAEAAAEBAAABAAEBAAEBAAABAAEBAAAAAAEAAAABAAAAAQEBAAEAAQEBAQEBAQABAAEAAQAAAAEBAQEAAQEBAAAAAAAAAAEBAAABAQABAAABAQEBAAEAAQEAAQEBAQABAQEBAQEAAAEBAQEBAAEBAAABAQAAAAEAAAAAAAEBAQAAAAABAQEAAAEBAQAAAAABAAAAAAEAAAABAAEBAAAAAAABAQEBAAEBAQEAAAABAAABAQAAAAEBAAEAAQEAAQEAAQABAAABAQAAAQEAAQAAAQABAQEBAQEBAQABAAEBAQAAAAABAQEAAQAAAQABAQEBAAEAAAAAAAABAAAAAAEAAAEBAAAAAQEAAAEAAAEAAQAAAQEBAQABAAEBAQAAAQEBAQAAAAABAQEBAAEBAQAAAAAAAAEAAQAAAQABAQEBAAAAAQEAAQAAAAABAQABAAEBAAEAAAEBAQEAAAAAAAEAAAEBAQEAAAABAAAAAQEBAQABAQAAAAABAAABAQABAQAAAQEBAQEBAAAAAAEBAQEAAQAAAAEAAQAAAQEAAQAAAQEBAQAAAQEBAQEBAQEAAAEAAQAAAAAAAAABAAAAAQEBAQEAAAAAAQEBAAAAAQABAAABAQAAAAEAAAEAAAEAAAAAAAABAAEBAQAAAQEAAAAAAAAAAAEAAQEBAQEBAAEAAQEAAAEBAQEBAQAAAQABAQEAAAEBAAEAAQAAAAEBAAAAAQAAAQAAAQEBAQAAAAEAAQAAAQABAAEAAAABAAEBAAEAAQABAQAAAQAAAAEBAAABAQABAAABAAABAQEBAAABAQEAAQEAAQEAAQEBAQAAAAEAAAAAAQAAAQAAAAAAAAAAAAABAAAAAQABAQABAQAAAAAAAAAAAQABAAEAAQABAQEAAAEAAAABAAABAQABAQAAAQEAAQEAAAEAAQEAAQEBAAEBAQEBAQABAQAAAQAAAQEAAAEAAAEBAAEAAQABAQAAAQEBAQAAAAABAAEAAQABAQABAAEBAAEAAAAAAQEBAQEBAQEBAAEAAAEAAQEA",
           "dtype": "i1"
          },
          "coloraxis": "coloraxis",
          "symbol": "circle"
         },
         "mode": "markers",
         "name": "",
         "showlegend": false,
         "type": "scattergl",
         "x": {
          "bdata": "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",
          "dtype": "f8"
         },
         "xaxis": "x",
         "y": {
          "bdata": "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",
          "dtype": "f8"
         },
         "yaxis": "y"
        }
       ],
       "layout": {
        "coloraxis": {
         "colorbar": {
          "title": {
           "text": "color"
          }
         },
         "colorscale": [
          [
           0,
           "#0d0887"
          ],
          [
           0.1111111111111111,
           "#46039f"
          ],
          [
           0.2222222222222222,
           "#7201a8"
          ],
          [
           0.3333333333333333,
           "#9c179e"
          ],
          [
           0.4444444444444444,
           "#bd3786"
          ],
          [
           0.5555555555555556,
           "#d8576b"
          ],
          [
           0.6666666666666666,
           "#ed7953"
          ],
          [
           0.7777777777777778,
           "#fb9f3a"
          ],
          [
           0.8888888888888888,
           "#fdca26"
          ],
          [
           1,
           "#f0f921"
          ]
         ]
        },
        "legend": {
         "tracegroupgap": 0
        },
        "margin": {
         "t": 60
        },
        "template": {
         "data": {
          "bar": [
           {
            "error_x": {
             "color": "#2a3f5f"
            },
            "error_y": {
             "color": "#2a3f5f"
            },
            "marker": {
             "line": {
              "color": "#E5ECF6",
              "width": 0.5
             },
             "pattern": {
              "fillmode": "overlay",
              "size": 10,
              "solidity": 0.2
             }
            },
            "type": "bar"
           }
          ],
          "barpolar": [
           {
            "marker": {
             "line": {
              "color": "#E5ECF6",
              "width": 0.5
             },
             "pattern": {
              "fillmode": "overlay",
              "size": 10,
              "solidity": 0.2
             }
            },
            "type": "barpolar"
           }
          ],
          "carpet": [
           {
            "aaxis": {
             "endlinecolor": "#2a3f5f",
             "gridcolor": "white",
             "linecolor": "white",
             "minorgridcolor": "white",
             "startlinecolor": "#2a3f5f"
            },
            "baxis": {
             "endlinecolor": "#2a3f5f",
             "gridcolor": "white",
             "linecolor": "white",
             "minorgridcolor": "white",
             "startlinecolor": "#2a3f5f"
            },
            "type": "carpet"
           }
          ],
          "choropleth": [
           {
            "colorbar": {
             "outlinewidth": 0,
             "ticks": ""
            },
            "type": "choropleth"
           }
          ],
          "contour": [
           {
            "colorbar": {
             "outlinewidth": 0,
             "ticks": ""
            },
            "colorscale": [
             [
              0,
              "#0d0887"
             ],
             [
              0.1111111111111111,
              "#46039f"
             ],
             [
              0.2222222222222222,
              "#7201a8"
             ],
             [
              0.3333333333333333,
              "#9c179e"
             ],
             [
              0.4444444444444444,
              "#bd3786"
             ],
             [
              0.5555555555555556,
              "#d8576b"
             ],
             [
              0.6666666666666666,
              "#ed7953"
             ],
             [
              0.7777777777777778,
              "#fb9f3a"
             ],
             [
              0.8888888888888888,
              "#fdca26"
             ],
             [
              1,
              "#f0f921"
             ]
            ],
            "type": "contour"
           }
          ],
          "contourcarpet": [
           {
            "colorbar": {
             "outlinewidth": 0,
             "ticks": ""
            },
            "type": "contourcarpet"
           }
          ],
          "heatmap": [
           {
            "colorbar": {
             "outlinewidth": 0,
             "ticks": ""
            },
            "colorscale": [
             [
              0,
              "#0d0887"
             ],
             [
              0.1111111111111111,
              "#46039f"
             ],
             [
              0.2222222222222222,
              "#7201a8"
             ],
             [
              0.3333333333333333,
              "#9c179e"
             ],
             [
              0.4444444444444444,
              "#bd3786"
             ],
             [
              0.5555555555555556,
              "#d8576b"
             ],
             [
              0.6666666666666666,
              "#ed7953"
             ],
             [
              0.7777777777777778,
              "#fb9f3a"
             ],
             [
              0.8888888888888888,
              "#fdca26"
             ],
             [
              1,
              "#f0f921"
             ]
            ],
            "type": "heatmap"
           }
          ],
          "histogram": [
           {
            "marker": {
             "pattern": {
              "fillmode": "overlay",
              "size": 10,
              "solidity": 0.2
             }
            },
            "type": "histogram"
           }
          ],
          "histogram2d": [
           {
            "colorbar": {
             "outlinewidth": 0,
             "ticks": ""
            },
            "colorscale": [
             [
              0,
              "#0d0887"
             ],
             [
              0.1111111111111111,
              "#46039f"
             ],
             [
              0.2222222222222222,
              "#7201a8"
             ],
             [
              0.3333333333333333,
              "#9c179e"
             ],
             [
              0.4444444444444444,
              "#bd3786"
             ],
             [
              0.5555555555555556,
              "#d8576b"
             ],
             [
              0.6666666666666666,
              "#ed7953"
             ],
             [
              0.7777777777777778,
              "#fb9f3a"
             ],
             [
              0.8888888888888888,
              "#fdca26"
             ],
             [
              1,
              "#f0f921"
             ]
            ],
            "type": "histogram2d"
           }
          ],
          "histogram2dcontour": [
           {
            "colorbar": {
             "outlinewidth": 0,
             "ticks": ""
            },
            "colorscale": [
             [
              0,
              "#0d0887"
             ],
             [
              0.1111111111111111,
              "#46039f"
             ],
             [
              0.2222222222222222,
              "#7201a8"
             ],
             [
              0.3333333333333333,
              "#9c179e"
             ],
             [
              0.4444444444444444,
              "#bd3786"
             ],
             [
              0.5555555555555556,
              "#d8576b"
             ],
             [
              0.6666666666666666,
              "#ed7953"
             ],
             [
              0.7777777777777778,
              "#fb9f3a"
             ],
             [
              0.8888888888888888,
              "#fdca26"
             ],
             [
              1,
              "#f0f921"
             ]
            ],
            "type": "histogram2dcontour"
           }
          ],
          "mesh3d": [
           {
            "colorbar": {
             "outlinewidth": 0,
             "ticks": ""
            },
            "type": "mesh3d"
           }
          ],
          "parcoords": [
           {
            "line": {
             "colorbar": {
              "outlinewidth": 0,
              "ticks": ""
             }
            },
            "type": "parcoords"
           }
          ],
          "pie": [
           {
            "automargin": true,
            "type": "pie"
           }
          ],
          "scatter": [
           {
            "fillpattern": {
             "fillmode": "overlay",
             "size": 10,
             "solidity": 0.2
            },
            "type": "scatter"
           }
          ],
          "scatter3d": [
           {
            "line": {
             "colorbar": {
              "outlinewidth": 0,
              "ticks": ""
             }
            },
            "marker": {
             "colorbar": {
              "outlinewidth": 0,
              "ticks": ""
             }
            },
            "type": "scatter3d"
           }
          ],
          "scattercarpet": [
           {
            "marker": {
             "colorbar": {
              "outlinewidth": 0,
              "ticks": ""
             }
            },
            "type": "scattercarpet"
           }
          ],
          "scattergeo": [
           {
            "marker": {
             "colorbar": {
              "outlinewidth": 0,
              "ticks": ""
             }
            },
            "type": "scattergeo"
           }
          ],
          "scattergl": [
           {
            "marker": {
             "colorbar": {
              "outlinewidth": 0,
              "ticks": ""
             }
            },
            "type": "scattergl"
           }
          ],
          "scattermap": [
           {
            "marker": {
             "colorbar": {
              "outlinewidth": 0,
              "ticks": ""
             }
            },
            "type": "scattermap"
           }
          ],
          "scattermapbox": [
           {
            "marker": {
             "colorbar": {
              "outlinewidth": 0,
              "ticks": ""
             }
            },
            "type": "scattermapbox"
           }
          ],
          "scatterpolar": [
           {
            "marker": {
             "colorbar": {
              "outlinewidth": 0,
              "ticks": ""
             }
            },
            "type": "scatterpolar"
           }
          ],
          "scatterpolargl": [
           {
            "marker": {
             "colorbar": {
              "outlinewidth": 0,
              "ticks": ""
             }
            },
            "type": "scatterpolargl"
           }
          ],
          "scatterternary": [
           {
            "marker": {
             "colorbar": {
              "outlinewidth": 0,
              "ticks": ""
             }
            },
            "type": "scatterternary"
           }
          ],
          "surface": [
           {
            "colorbar": {
             "outlinewidth": 0,
             "ticks": ""
            },
            "colorscale": [
             [
              0,
              "#0d0887"
             ],
             [
              0.1111111111111111,
              "#46039f"
             ],
             [
              0.2222222222222222,
              "#7201a8"
             ],
             [
              0.3333333333333333,
              "#9c179e"
             ],
             [
              0.4444444444444444,
              "#bd3786"
             ],
             [
              0.5555555555555556,
              "#d8576b"
             ],
             [
              0.6666666666666666,
              "#ed7953"
             ],
             [
              0.7777777777777778,
              "#fb9f3a"
             ],
             [
              0.8888888888888888,
              "#fdca26"
             ],
             [
              1,
              "#f0f921"
             ]
            ],
            "type": "surface"
           }
          ],
          "table": [
           {
            "cells": {
             "fill": {
              "color": "#EBF0F8"
             },
             "line": {
              "color": "white"
             }
            },
            "header": {
             "fill": {
              "color": "#C8D4E3"
             },
             "line": {
              "color": "white"
             }
            },
            "type": "table"
           }
          ]
         },
         "layout": {
          "annotationdefaults": {
           "arrowcolor": "#2a3f5f",
           "arrowhead": 0,
           "arrowwidth": 1
          },
          "autotypenumbers": "strict",
          "coloraxis": {
           "colorbar": {
            "outlinewidth": 0,
            "ticks": ""
           }
          },
          "colorscale": {
           "diverging": [
            [
             0,
             "#8e0152"
            ],
            [
             0.1,
             "#c51b7d"
            ],
            [
             0.2,
             "#de77ae"
            ],
            [
             0.3,
             "#f1b6da"
            ],
            [
             0.4,
             "#fde0ef"
            ],
            [
             0.5,
             "#f7f7f7"
            ],
            [
             0.6,
             "#e6f5d0"
            ],
            [
             0.7,
             "#b8e186"
            ],
            [
             0.8,
             "#7fbc41"
            ],
            [
             0.9,
             "#4d9221"
            ],
            [
             1,
             "#276419"
            ]
           ],
           "sequential": [
            [
             0,
             "#0d0887"
            ],
            [
             0.1111111111111111,
             "#46039f"
            ],
            [
             0.2222222222222222,
             "#7201a8"
            ],
            [
             0.3333333333333333,
             "#9c179e"
            ],
            [
             0.4444444444444444,
             "#bd3786"
            ],
            [
             0.5555555555555556,
             "#d8576b"
            ],
            [
             0.6666666666666666,
             "#ed7953"
            ],
            [
             0.7777777777777778,
             "#fb9f3a"
            ],
            [
             0.8888888888888888,
             "#fdca26"
            ],
            [
             1,
             "#f0f921"
            ]
           ],
           "sequentialminus": [
            [
             0,
             "#0d0887"
            ],
            [
             0.1111111111111111,
             "#46039f"
            ],
            [
             0.2222222222222222,
             "#7201a8"
            ],
            [
             0.3333333333333333,
             "#9c179e"
            ],
            [
             0.4444444444444444,
             "#bd3786"
            ],
            [
             0.5555555555555556,
             "#d8576b"
            ],
            [
             0.6666666666666666,
             "#ed7953"
            ],
            [
             0.7777777777777778,
             "#fb9f3a"
            ],
            [
             0.8888888888888888,
             "#fdca26"
            ],
            [
             1,
             "#f0f921"
            ]
           ]
          },
          "colorway": [
           "#636efa",
           "#EF553B",
           "#00cc96",
           "#ab63fa",
           "#FFA15A",
           "#19d3f3",
           "#FF6692",
           "#B6E880",
           "#FF97FF",
           "#FECB52"
          ],
          "font": {
           "color": "#2a3f5f"
          },
          "geo": {
           "bgcolor": "white",
           "lakecolor": "white",
           "landcolor": "#E5ECF6",
           "showlakes": true,
           "showland": true,
           "subunitcolor": "white"
          },
          "hoverlabel": {
           "align": "left"
          },
          "hovermode": "closest",
          "mapbox": {
           "style": "light"
          },
          "paper_bgcolor": "white",
          "plot_bgcolor": "#E5ECF6",
          "polar": {
           "angularaxis": {
            "gridcolor": "white",
            "linecolor": "white",
            "ticks": ""
           },
           "bgcolor": "#E5ECF6",
           "radialaxis": {
            "gridcolor": "white",
            "linecolor": "white",
            "ticks": ""
           }
          },
          "scene": {
           "xaxis": {
            "backgroundcolor": "#E5ECF6",
            "gridcolor": "white",
            "gridwidth": 2,
            "linecolor": "white",
            "showbackground": true,
            "ticks": "",
            "zerolinecolor": "white"
           },
           "yaxis": {
            "backgroundcolor": "#E5ECF6",
            "gridcolor": "white",
            "gridwidth": 2,
            "linecolor": "white",
            "showbackground": true,
            "ticks": "",
            "zerolinecolor": "white"
           },
           "zaxis": {
            "backgroundcolor": "#E5ECF6",
            "gridcolor": "white",
            "gridwidth": 2,
            "linecolor": "white",
            "showbackground": true,
            "ticks": "",
            "zerolinecolor": "white"
           }
          },
          "shapedefaults": {
           "line": {
            "color": "#2a3f5f"
           }
          },
          "ternary": {
           "aaxis": {
            "gridcolor": "white",
            "linecolor": "white",
            "ticks": ""
           },
           "baxis": {
            "gridcolor": "white",
            "linecolor": "white",
            "ticks": ""
           },
           "bgcolor": "#E5ECF6",
           "caxis": {
            "gridcolor": "white",
            "linecolor": "white",
            "ticks": ""
           }
          },
          "title": {
           "x": 0.05
          },
          "xaxis": {
           "automargin": true,
           "gridcolor": "white",
           "linecolor": "white",
           "ticks": "",
           "title": {
            "standoff": 15
           },
           "zerolinecolor": "white",
           "zerolinewidth": 2
          },
          "yaxis": {
           "automargin": true,
           "gridcolor": "white",
           "linecolor": "white",
           "ticks": "",
           "title": {
            "standoff": 15
           },
           "zerolinecolor": "white",
           "zerolinewidth": 2
          }
         }
        },
        "xaxis": {
         "anchor": "y",
         "domain": [
          0,
          1
         ],
         "title": {
          "text": "x"
         }
        },
        "yaxis": {
         "anchor": "x",
         "domain": [
          0,
          1
         ],
         "title": {
          "text": "y"
         }
        }
       }
      }
     },
     "metadata": {},
     "output_type": "display_data"
    }
   ],
   "source": [
    "# Aplicação do algoritmo Agglomerative Clustering (Agrupamento Hierárquico).\n",
    "# n_clusters=2: Define que o algoritmo deve formar 2 clusters.\n",
    "# linkage='ward': Critério usado para mesclar os clusters. 'ward' minimiza a variância dentro de cada cluster.\n",
    "# rotulos_hc: Armazena os rótulos de cluster atribuídos pelo Agglomerative Clustering.\n",
    "hc = AgglomerativeClustering(n_clusters=2, linkage='ward')\n",
    "rotulos_hc = hc.fit_predict(X_random)\n",
    "grafico_hc = px.scatter(x= X_random[:,0], y= X_random[:,1], color= rotulos_hc)\n",
    "grafico_hc.show()\n",
    "grafico_hc.write_image(\"images/agglomerative_clusters.png\")"
   ]
  },
  {
   "cell_type": "code",
   "execution_count": 18,
   "id": "f5eded96",
   "metadata": {},
   "outputs": [],
   "source": [
    "# Aplicação do algoritmo DBSCAN (Density-Based Spatial Clustering of Applications with Noise).\n",
    "# eps=0.1: Raio de vizinhança. Define a distância máxima entre duas amostras para que uma seja considerada\n",
    "#          vizinha da outra. A escolha de 'eps' é crucial e depende da densidade dos dados.\n",
    "# min_samples=5: Número mínimo de amostras em uma vizinhança para que um ponto seja considerado um ponto central (core point).\n",
    "# rotulos_dbscan: Armazena os rótulos de cluster atribuídos pelo DBSCAN.\n",
    "#                 Pontos de ruído (outliers) são atribuídos ao rótulo -1.\n",
    "dbscan = DBSCAN(eps=0.1)\n",
    "rotulos_dbscan = dbscan.fit_predict(X_random)"
   ]
  },
  {
   "cell_type": "code",
   "execution_count": 19,
   "id": "ee3ce08d",
   "metadata": {},
   "outputs": [
    {
     "data": {
      "text/plain": [
       "(array([-1,  0,  1]), array([ 11, 745, 744]))"
      ]
     },
     "execution_count": 19,
     "metadata": {},
     "output_type": "execute_result"
    }
   ],
   "source": [
    "# Verificação dos valores únicos e suas contagens nos rótulos do DBSCAN.\n",
    "# É comum ver o rótulo '-1' aqui, que representa os pontos classificados como ruído pelo DBSCAN.\n",
    "# A contagem mostra quantos pontos foram atribuídos a cada cluster, incluindo o ruído.\n",
    "np.unique(rotulos_dbscan, return_counts=True)"
   ]
  },
  {
   "cell_type": "code",
   "execution_count": 20,
   "id": "adcf56ec",
   "metadata": {},
   "outputs": [
    {
     "data": {
      "application/vnd.plotly.v1+json": {
       "config": {
        "plotlyServerURL": "https://plot.ly"
       },
       "data": [
        {
         "hovertemplate": "x=%{x}<br>y=%{y}<br>color=%{marker.color}<extra></extra>",
         "legendgroup": "",
         "marker": {
          "color": {
           "bdata": "AAEBAAAAAAEBAQAAAQAAAAEAAQEBAAABAAEBAAAAAAEAAQAAAQAAAQEBAAAAAAABAAEAAQEB/wABAAEBAQEAAQEBAQABAAAAAAAAAAAAAAEBAQAAAAEBAAEAAQAAAQABAAAAAQH/AAABAQAAAAEAAAEAAQABAAAAAAABAAEBAAEBAAAAAAABAQABAAABAAAAAAEBAAEAAAEAAQEBAQABAAABAQEBAAAAAAEAAAABAQAAAQABAQABAAEAAAAAAQAAAQABAQEBAQEBAAEBAQEAAAAAAAAAAQEBAQEAAAEAAQEAAQEAAAEAAAAAAAABAAABAAAAAQABAAEAAQAAAAAAAQEBAQEAAAABAQEAAAEBAAEBAAAAAAEBAQAAAQEAAQEAAQAAAAAAAQAAAAABAAEAAAAAAAEBAQEBAAAAAQABAAEBAAEBAQAAAAABAQAAAQEBAQEAAQAAAQD/AQEAAQEAAQEBAAABAAAAAAEAAAEBAQAAAAEBAQABAQEAAQEBAQAAAAAAAAEAAQAAAQAAAAAAAQEAAQABAQABAQABAQEAAQEBAAABAAEAAQEAAAAAAQEAAQEAAAAAAAEAAQEBAAEAAQEBAAAAAAEAAAABAAEBAAEBAQABAAAAAAABAAABAAAAAQEBAAAAAAAAAQEBAQABAAABAQEBAQABAAAAAAEAAQAAAQEAAQEBAQAAAQAAAQAAAAEBAAABAQEBAAABAQEBAAAAAAABAAEAAQEBAAABAQAAAQEAAQABAQEBAQAAAQAAAQEAAQABAQABAQAAAAEBAAAAAAEAAf8AAAEAAQAAAAEBAAEAAAABAAABAQABAQABAAAAAAEAAQEBAAEAAAAAAQAAAQABAQEAAQEAAQAAAAEAAAAAAQABAAEBAQABAAAAAAABAAABAAABAAAAAAEAAAABAQEBAAABAAEBAAABAQAAAAABAAEAAQABAAABAAAAAAEBAAEBAAABAAEBAAEBAAAAAAEBAAAAAAEAAQABAAEBAQEBAAAAAAEBAQABAAABAAAA/wAAAAEAAAEAAQEBAAAAAAABAQEBAAEBAQAAAAEBAQEAAQEAAQEA/wEBAQABAQABAQEAAAEBAQEBAQEAAAABAQAAAAEAAAAAAAEBAQAAAQEBAAAAAQEBAQABAAABAAEAAAEAAQABAAEAAQEAAQABAQH/AQEAAQEBAAABAAABAQAAAAEBAQEBAQAAAQEAAAABAAABAAABAQEAAQEAAQEBAQEBAQABAQABAAEBAQEAAQAAAAEBAQAAAQABAAEBAAEAAAEAAAABAAEAAQEBAAEBAAEAAAEBAAEBAAEBAQEBAQEBAQABAAEBAQAAAQEBAAAAAQABAQABAAEAAQAAAAAAAAEAAQEBAAAAAQEBAAAAAAEAAQAAAAAAAAEBAAEBAQEAAQEBAQEAAAAAAAEAAAEBAQAAAAABAAEBAAEAAQABAAABAQABAAABAQABAAEAAQEBAQAAAQEA/wEBAQAAAQABAQEAAQAAAQEAAQAAAQEAAQEAAQEAAQEBAQAAAAEAAQEAAAABAAEBAAAAAQEBAQEAAAEBAAEBAAAAAQEBAAABAAEAAAEBAQEBAQEAAAABAAABAAEBAQAAAQEBAAAAAAABAAEAAQEBAQEBAAEAAQEAAQEBAAEBAQAAAQABAAABAQABAAEAAQAAAQEBAAAAAAEAAQAAAQEBAAAAAAEAAP8AAQAAAAEAAAABAAEBAQEAAQABAQAAAQEAAAEAAAEBAQABAAEBAP8BAQEBAAABAQEAAQAAAQEAAAEBAQEAAAEAAAAAAQAAAQEAAQABAAAAAQABAQABAQEBAQABAQAAAAAAAAEAAAABAAEAAQEBAQEAAAAAAQABAAABAQAAAQAAAQEAAQAAAAEAAQEBAQEAAAEAAQEAAQABAQEAAQAAAAEBAQEAAAEBAAEAAQEBAQAAAQEBAQABAQAAAAEBAQEAAQABAAAAAAEAAAAAAQEBAQEBAQEBAAEBAQH/AAEA",
           "dtype": "i1"
          },
          "coloraxis": "coloraxis",
          "symbol": "circle"
         },
         "mode": "markers",
         "name": "",
         "showlegend": false,
         "type": "scattergl",
         "x": {
          "bdata": "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",
          "dtype": "f8"
         },
         "xaxis": "x",
         "y": {
          "bdata": "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",
          "dtype": "f8"
         },
         "yaxis": "y"
        }
       ],
       "layout": {
        "coloraxis": {
         "colorbar": {
          "title": {
           "text": "color"
          }
         },
         "colorscale": [
          [
           0,
           "#0d0887"
          ],
          [
           0.1111111111111111,
           "#46039f"
          ],
          [
           0.2222222222222222,
           "#7201a8"
          ],
          [
           0.3333333333333333,
           "#9c179e"
          ],
          [
           0.4444444444444444,
           "#bd3786"
          ],
          [
           0.5555555555555556,
           "#d8576b"
          ],
          [
           0.6666666666666666,
           "#ed7953"
          ],
          [
           0.7777777777777778,
           "#fb9f3a"
          ],
          [
           0.8888888888888888,
           "#fdca26"
          ],
          [
           1,
           "#f0f921"
          ]
         ]
        },
        "legend": {
         "tracegroupgap": 0
        },
        "margin": {
         "t": 60
        },
        "template": {
         "data": {
          "bar": [
           {
            "error_x": {
             "color": "#2a3f5f"
            },
            "error_y": {
             "color": "#2a3f5f"
            },
            "marker": {
             "line": {
              "color": "#E5ECF6",
              "width": 0.5
             },
             "pattern": {
              "fillmode": "overlay",
              "size": 10,
              "solidity": 0.2
             }
            },
            "type": "bar"
           }
          ],
          "barpolar": [
           {
            "marker": {
             "line": {
              "color": "#E5ECF6",
              "width": 0.5
             },
             "pattern": {
              "fillmode": "overlay",
              "size": 10,
              "solidity": 0.2
             }
            },
            "type": "barpolar"
           }
          ],
          "carpet": [
           {
            "aaxis": {
             "endlinecolor": "#2a3f5f",
             "gridcolor": "white",
             "linecolor": "white",
             "minorgridcolor": "white",
             "startlinecolor": "#2a3f5f"
            },
            "baxis": {
             "endlinecolor": "#2a3f5f",
             "gridcolor": "white",
             "linecolor": "white",
             "minorgridcolor": "white",
             "startlinecolor": "#2a3f5f"
            },
            "type": "carpet"
           }
          ],
          "choropleth": [
           {
            "colorbar": {
             "outlinewidth": 0,
             "ticks": ""
            },
            "type": "choropleth"
           }
          ],
          "contour": [
           {
            "colorbar": {
             "outlinewidth": 0,
             "ticks": ""
            },
            "colorscale": [
             [
              0,
              "#0d0887"
             ],
             [
              0.1111111111111111,
              "#46039f"
             ],
             [
              0.2222222222222222,
              "#7201a8"
             ],
             [
              0.3333333333333333,
              "#9c179e"
             ],
             [
              0.4444444444444444,
              "#bd3786"
             ],
             [
              0.5555555555555556,
              "#d8576b"
             ],
             [
              0.6666666666666666,
              "#ed7953"
             ],
             [
              0.7777777777777778,
              "#fb9f3a"
             ],
             [
              0.8888888888888888,
              "#fdca26"
             ],
             [
              1,
              "#f0f921"
             ]
            ],
            "type": "contour"
           }
          ],
          "contourcarpet": [
           {
            "colorbar": {
             "outlinewidth": 0,
             "ticks": ""
            },
            "type": "contourcarpet"
           }
          ],
          "heatmap": [
           {
            "colorbar": {
             "outlinewidth": 0,
             "ticks": ""
            },
            "colorscale": [
             [
              0,
              "#0d0887"
             ],
             [
              0.1111111111111111,
              "#46039f"
             ],
             [
              0.2222222222222222,
              "#7201a8"
             ],
             [
              0.3333333333333333,
              "#9c179e"
             ],
             [
              0.4444444444444444,
              "#bd3786"
             ],
             [
              0.5555555555555556,
              "#d8576b"
             ],
             [
              0.6666666666666666,
              "#ed7953"
             ],
             [
              0.7777777777777778,
              "#fb9f3a"
             ],
             [
              0.8888888888888888,
              "#fdca26"
             ],
             [
              1,
              "#f0f921"
             ]
            ],
            "type": "heatmap"
           }
          ],
          "histogram": [
           {
            "marker": {
             "pattern": {
              "fillmode": "overlay",
              "size": 10,
              "solidity": 0.2
             }
            },
            "type": "histogram"
           }
          ],
          "histogram2d": [
           {
            "colorbar": {
             "outlinewidth": 0,
             "ticks": ""
            },
            "colorscale": [
             [
              0,
              "#0d0887"
             ],
             [
              0.1111111111111111,
              "#46039f"
             ],
             [
              0.2222222222222222,
              "#7201a8"
             ],
             [
              0.3333333333333333,
              "#9c179e"
             ],
             [
              0.4444444444444444,
              "#bd3786"
             ],
             [
              0.5555555555555556,
              "#d8576b"
             ],
             [
              0.6666666666666666,
              "#ed7953"
             ],
             [
              0.7777777777777778,
              "#fb9f3a"
             ],
             [
              0.8888888888888888,
              "#fdca26"
             ],
             [
              1,
              "#f0f921"
             ]
            ],
            "type": "histogram2d"
           }
          ],
          "histogram2dcontour": [
           {
            "colorbar": {
             "outlinewidth": 0,
             "ticks": ""
            },
            "colorscale": [
             [
              0,
              "#0d0887"
             ],
             [
              0.1111111111111111,
              "#46039f"
             ],
             [
              0.2222222222222222,
              "#7201a8"
             ],
             [
              0.3333333333333333,
              "#9c179e"
             ],
             [
              0.4444444444444444,
              "#bd3786"
             ],
             [
              0.5555555555555556,
              "#d8576b"
             ],
             [
              0.6666666666666666,
              "#ed7953"
             ],
             [
              0.7777777777777778,
              "#fb9f3a"
             ],
             [
              0.8888888888888888,
              "#fdca26"
             ],
             [
              1,
              "#f0f921"
             ]
            ],
            "type": "histogram2dcontour"
           }
          ],
          "mesh3d": [
           {
            "colorbar": {
             "outlinewidth": 0,
             "ticks": ""
            },
            "type": "mesh3d"
           }
          ],
          "parcoords": [
           {
            "line": {
             "colorbar": {
              "outlinewidth": 0,
              "ticks": ""
             }
            },
            "type": "parcoords"
           }
          ],
          "pie": [
           {
            "automargin": true,
            "type": "pie"
           }
          ],
          "scatter": [
           {
            "fillpattern": {
             "fillmode": "overlay",
             "size": 10,
             "solidity": 0.2
            },
            "type": "scatter"
           }
          ],
          "scatter3d": [
           {
            "line": {
             "colorbar": {
              "outlinewidth": 0,
              "ticks": ""
             }
            },
            "marker": {
             "colorbar": {
              "outlinewidth": 0,
              "ticks": ""
             }
            },
            "type": "scatter3d"
           }
          ],
          "scattercarpet": [
           {
            "marker": {
             "colorbar": {
              "outlinewidth": 0,
              "ticks": ""
             }
            },
            "type": "scattercarpet"
           }
          ],
          "scattergeo": [
           {
            "marker": {
             "colorbar": {
              "outlinewidth": 0,
              "ticks": ""
             }
            },
            "type": "scattergeo"
           }
          ],
          "scattergl": [
           {
            "marker": {
             "colorbar": {
              "outlinewidth": 0,
              "ticks": ""
             }
            },
            "type": "scattergl"
           }
          ],
          "scattermap": [
           {
            "marker": {
             "colorbar": {
              "outlinewidth": 0,
              "ticks": ""
             }
            },
            "type": "scattermap"
           }
          ],
          "scattermapbox": [
           {
            "marker": {
             "colorbar": {
              "outlinewidth": 0,
              "ticks": ""
             }
            },
            "type": "scattermapbox"
           }
          ],
          "scatterpolar": [
           {
            "marker": {
             "colorbar": {
              "outlinewidth": 0,
              "ticks": ""
             }
            },
            "type": "scatterpolar"
           }
          ],
          "scatterpolargl": [
           {
            "marker": {
             "colorbar": {
              "outlinewidth": 0,
              "ticks": ""
             }
            },
            "type": "scatterpolargl"
           }
          ],
          "scatterternary": [
           {
            "marker": {
             "colorbar": {
              "outlinewidth": 0,
              "ticks": ""
             }
            },
            "type": "scatterternary"
           }
          ],
          "surface": [
           {
            "colorbar": {
             "outlinewidth": 0,
             "ticks": ""
            },
            "colorscale": [
             [
              0,
              "#0d0887"
             ],
             [
              0.1111111111111111,
              "#46039f"
             ],
             [
              0.2222222222222222,
              "#7201a8"
             ],
             [
              0.3333333333333333,
              "#9c179e"
             ],
             [
              0.4444444444444444,
              "#bd3786"
             ],
             [
              0.5555555555555556,
              "#d8576b"
             ],
             [
              0.6666666666666666,
              "#ed7953"
             ],
             [
              0.7777777777777778,
              "#fb9f3a"
             ],
             [
              0.8888888888888888,
              "#fdca26"
             ],
             [
              1,
              "#f0f921"
             ]
            ],
            "type": "surface"
           }
          ],
          "table": [
           {
            "cells": {
             "fill": {
              "color": "#EBF0F8"
             },
             "line": {
              "color": "white"
             }
            },
            "header": {
             "fill": {
              "color": "#C8D4E3"
             },
             "line": {
              "color": "white"
             }
            },
            "type": "table"
           }
          ]
         },
         "layout": {
          "annotationdefaults": {
           "arrowcolor": "#2a3f5f",
           "arrowhead": 0,
           "arrowwidth": 1
          },
          "autotypenumbers": "strict",
          "coloraxis": {
           "colorbar": {
            "outlinewidth": 0,
            "ticks": ""
           }
          },
          "colorscale": {
           "diverging": [
            [
             0,
             "#8e0152"
            ],
            [
             0.1,
             "#c51b7d"
            ],
            [
             0.2,
             "#de77ae"
            ],
            [
             0.3,
             "#f1b6da"
            ],
            [
             0.4,
             "#fde0ef"
            ],
            [
             0.5,
             "#f7f7f7"
            ],
            [
             0.6,
             "#e6f5d0"
            ],
            [
             0.7,
             "#b8e186"
            ],
            [
             0.8,
             "#7fbc41"
            ],
            [
             0.9,
             "#4d9221"
            ],
            [
             1,
             "#276419"
            ]
           ],
           "sequential": [
            [
             0,
             "#0d0887"
            ],
            [
             0.1111111111111111,
             "#46039f"
            ],
            [
             0.2222222222222222,
             "#7201a8"
            ],
            [
             0.3333333333333333,
             "#9c179e"
            ],
            [
             0.4444444444444444,
             "#bd3786"
            ],
            [
             0.5555555555555556,
             "#d8576b"
            ],
            [
             0.6666666666666666,
             "#ed7953"
            ],
            [
             0.7777777777777778,
             "#fb9f3a"
            ],
            [
             0.8888888888888888,
             "#fdca26"
            ],
            [
             1,
             "#f0f921"
            ]
           ],
           "sequentialminus": [
            [
             0,
             "#0d0887"
            ],
            [
             0.1111111111111111,
             "#46039f"
            ],
            [
             0.2222222222222222,
             "#7201a8"
            ],
            [
             0.3333333333333333,
             "#9c179e"
            ],
            [
             0.4444444444444444,
             "#bd3786"
            ],
            [
             0.5555555555555556,
             "#d8576b"
            ],
            [
             0.6666666666666666,
             "#ed7953"
            ],
            [
             0.7777777777777778,
             "#fb9f3a"
            ],
            [
             0.8888888888888888,
             "#fdca26"
            ],
            [
             1,
             "#f0f921"
            ]
           ]
          },
          "colorway": [
           "#636efa",
           "#EF553B",
           "#00cc96",
           "#ab63fa",
           "#FFA15A",
           "#19d3f3",
           "#FF6692",
           "#B6E880",
           "#FF97FF",
           "#FECB52"
          ],
          "font": {
           "color": "#2a3f5f"
          },
          "geo": {
           "bgcolor": "white",
           "lakecolor": "white",
           "landcolor": "#E5ECF6",
           "showlakes": true,
           "showland": true,
           "subunitcolor": "white"
          },
          "hoverlabel": {
           "align": "left"
          },
          "hovermode": "closest",
          "mapbox": {
           "style": "light"
          },
          "paper_bgcolor": "white",
          "plot_bgcolor": "#E5ECF6",
          "polar": {
           "angularaxis": {
            "gridcolor": "white",
            "linecolor": "white",
            "ticks": ""
           },
           "bgcolor": "#E5ECF6",
           "radialaxis": {
            "gridcolor": "white",
            "linecolor": "white",
            "ticks": ""
           }
          },
          "scene": {
           "xaxis": {
            "backgroundcolor": "#E5ECF6",
            "gridcolor": "white",
            "gridwidth": 2,
            "linecolor": "white",
            "showbackground": true,
            "ticks": "",
            "zerolinecolor": "white"
           },
           "yaxis": {
            "backgroundcolor": "#E5ECF6",
            "gridcolor": "white",
            "gridwidth": 2,
            "linecolor": "white",
            "showbackground": true,
            "ticks": "",
            "zerolinecolor": "white"
           },
           "zaxis": {
            "backgroundcolor": "#E5ECF6",
            "gridcolor": "white",
            "gridwidth": 2,
            "linecolor": "white",
            "showbackground": true,
            "ticks": "",
            "zerolinecolor": "white"
           }
          },
          "shapedefaults": {
           "line": {
            "color": "#2a3f5f"
           }
          },
          "ternary": {
           "aaxis": {
            "gridcolor": "white",
            "linecolor": "white",
            "ticks": ""
           },
           "baxis": {
            "gridcolor": "white",
            "linecolor": "white",
            "ticks": ""
           },
           "bgcolor": "#E5ECF6",
           "caxis": {
            "gridcolor": "white",
            "linecolor": "white",
            "ticks": ""
           }
          },
          "title": {
           "x": 0.05
          },
          "xaxis": {
           "automargin": true,
           "gridcolor": "white",
           "linecolor": "white",
           "ticks": "",
           "title": {
            "standoff": 15
           },
           "zerolinecolor": "white",
           "zerolinewidth": 2
          },
          "yaxis": {
           "automargin": true,
           "gridcolor": "white",
           "linecolor": "white",
           "ticks": "",
           "title": {
            "standoff": 15
           },
           "zerolinecolor": "white",
           "zerolinewidth": 2
          }
         }
        },
        "xaxis": {
         "anchor": "y",
         "domain": [
          0,
          1
         ],
         "title": {
          "text": "x"
         }
        },
        "yaxis": {
         "anchor": "x",
         "domain": [
          0,
          1
         ],
         "title": {
          "text": "y"
         }
        }
       }
      }
     },
     "metadata": {},
     "output_type": "display_data"
    }
   ],
   "source": [
    "\n",
    "# Visualização dos resultados do DBSCAN.\n",
    "# Os pontos são coloridos de acordo com os clusters encontrados.\n",
    "# Pontos em -1 (ruído) terão uma cor distinta se Plotly os mapear.grafico_dbscan = px.scatter(x= X_random[:,0], y= X_random[:,1], color= rotulos_dbscan)\n",
    "grafico_dbscan = px.scatter(x= X_random[:,0], y= X_random[:,1], color= rotulos_dbscan)\n",
    "grafico_dbscan.show()\n",
    "grafico_dbscan.write_image(\"images/dbscan_clusters.png\")"
   ]
  }
 ],
 "metadata": {
  "kernelspec": {
   "display_name": "Python 3",
   "language": "python",
   "name": "python3"
  },
  "language_info": {
   "codemirror_mode": {
    "name": "ipython",
    "version": 3
   },
   "file_extension": ".py",
   "mimetype": "text/x-python",
   "name": "python",
   "nbconvert_exporter": "python",
   "pygments_lexer": "ipython3",
   "version": "3.11.3"
  }
 },
 "nbformat": 4,
 "nbformat_minor": 5
}
